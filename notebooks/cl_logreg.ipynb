{
 "cells": [
  {
   "cell_type": "code",
   "execution_count": 1,
   "metadata": {},
   "outputs": [
    {
     "name": "stderr",
     "output_type": "stream",
     "text": [
      "[nltk_data] Downloading package punkt to\n",
      "[nltk_data]     C:\\Users\\ataka\\AppData\\Roaming\\nltk_data...\n",
      "[nltk_data]   Package punkt is already up-to-date!\n",
      "[nltk_data] Downloading package stopwords to\n",
      "[nltk_data]     C:\\Users\\ataka\\AppData\\Roaming\\nltk_data...\n",
      "[nltk_data]   Package stopwords is already up-to-date!\n",
      "[nltk_data] Downloading package averaged_perceptron_tagger to\n",
      "[nltk_data]     C:\\Users\\ataka\\AppData\\Roaming\\nltk_data...\n",
      "[nltk_data]   Package averaged_perceptron_tagger is already up-to-\n",
      "[nltk_data]       date!\n",
      "[nltk_data] Downloading package wordnet to\n",
      "[nltk_data]     C:\\Users\\ataka\\AppData\\Roaming\\nltk_data...\n",
      "[nltk_data]   Package wordnet is already up-to-date!\n"
     ]
    },
    {
     "data": {
      "text/plain": [
       "True"
      ]
     },
     "execution_count": 1,
     "metadata": {},
     "output_type": "execute_result"
    }
   ],
   "source": [
    "import pandas as pd\n",
    "import numpy as np\n",
    "from sklearn.model_selection import train_test_split\n",
    "from sklearn.feature_extraction.text import TfidfVectorizer\n",
    "from sklearn.linear_model import LogisticRegression\n",
    "from sklearn.metrics import accuracy_score, precision_score, recall_score, f1_score\n",
    "from sklearn.preprocessing import LabelEncoder\n",
    "\n",
    "from utils import prepropcess_data\n",
    "import nltk\n",
    "nltk.download('wordnet')\n"
   ]
  },
  {
   "cell_type": "code",
   "execution_count": 4,
   "metadata": {},
   "outputs": [
    {
     "data": {
      "text/html": [
       "<div>\n",
       "<style scoped>\n",
       "    .dataframe tbody tr th:only-of-type {\n",
       "        vertical-align: middle;\n",
       "    }\n",
       "\n",
       "    .dataframe tbody tr th {\n",
       "        vertical-align: top;\n",
       "    }\n",
       "\n",
       "    .dataframe thead th {\n",
       "        text-align: right;\n",
       "    }\n",
       "</style>\n",
       "<table border=\"1\" class=\"dataframe\">\n",
       "  <thead>\n",
       "    <tr style=\"text-align: right;\">\n",
       "      <th></th>\n",
       "      <th>productId</th>\n",
       "      <th>Title</th>\n",
       "      <th>userId</th>\n",
       "      <th>Helpfulness</th>\n",
       "      <th>Score</th>\n",
       "      <th>Time</th>\n",
       "      <th>Text</th>\n",
       "      <th>Cat1</th>\n",
       "      <th>Cat2</th>\n",
       "      <th>Cat3</th>\n",
       "    </tr>\n",
       "  </thead>\n",
       "  <tbody>\n",
       "    <tr>\n",
       "      <th>0</th>\n",
       "      <td>B000E46LYG</td>\n",
       "      <td>Golden Valley Natural Buffalo Jerky</td>\n",
       "      <td>A3MQDNGHDJU4MK</td>\n",
       "      <td>0/0</td>\n",
       "      <td>3.0</td>\n",
       "      <td>-1</td>\n",
       "      <td>The description and photo on this product need...</td>\n",
       "      <td>grocery gourmet food</td>\n",
       "      <td>meat poultry</td>\n",
       "      <td>jerky</td>\n",
       "    </tr>\n",
       "    <tr>\n",
       "      <th>1</th>\n",
       "      <td>B000GRA6N8</td>\n",
       "      <td>Westing Game</td>\n",
       "      <td>unknown</td>\n",
       "      <td>0/0</td>\n",
       "      <td>5.0</td>\n",
       "      <td>860630400</td>\n",
       "      <td>This was a great book!!!! It is well thought t...</td>\n",
       "      <td>toys games</td>\n",
       "      <td>games</td>\n",
       "      <td>unknown</td>\n",
       "    </tr>\n",
       "    <tr>\n",
       "      <th>2</th>\n",
       "      <td>B000GRA6N8</td>\n",
       "      <td>Westing Game</td>\n",
       "      <td>unknown</td>\n",
       "      <td>0/0</td>\n",
       "      <td>5.0</td>\n",
       "      <td>883008000</td>\n",
       "      <td>I am a first year teacher, teaching 5th grade....</td>\n",
       "      <td>toys games</td>\n",
       "      <td>games</td>\n",
       "      <td>unknown</td>\n",
       "    </tr>\n",
       "    <tr>\n",
       "      <th>3</th>\n",
       "      <td>B000GRA6N8</td>\n",
       "      <td>Westing Game</td>\n",
       "      <td>unknown</td>\n",
       "      <td>0/0</td>\n",
       "      <td>5.0</td>\n",
       "      <td>897696000</td>\n",
       "      <td>I got the book at my bookfair at school lookin...</td>\n",
       "      <td>toys games</td>\n",
       "      <td>games</td>\n",
       "      <td>unknown</td>\n",
       "    </tr>\n",
       "    <tr>\n",
       "      <th>4</th>\n",
       "      <td>B00000DMDQ</td>\n",
       "      <td>I SPY A is For Jigsaw Puzzle 63pc</td>\n",
       "      <td>unknown</td>\n",
       "      <td>2/4</td>\n",
       "      <td>5.0</td>\n",
       "      <td>911865600</td>\n",
       "      <td>Hi! I'm Martine Redman and I created this puzz...</td>\n",
       "      <td>toys games</td>\n",
       "      <td>puzzles</td>\n",
       "      <td>jigsaw puzzles</td>\n",
       "    </tr>\n",
       "  </tbody>\n",
       "</table>\n",
       "</div>"
      ],
      "text/plain": [
       "    productId                                Title          userId  \\\n",
       "0  B000E46LYG  Golden Valley Natural Buffalo Jerky  A3MQDNGHDJU4MK   \n",
       "1  B000GRA6N8                         Westing Game         unknown   \n",
       "2  B000GRA6N8                         Westing Game         unknown   \n",
       "3  B000GRA6N8                         Westing Game         unknown   \n",
       "4  B00000DMDQ    I SPY A is For Jigsaw Puzzle 63pc         unknown   \n",
       "\n",
       "  Helpfulness  Score       Time  \\\n",
       "0         0/0    3.0         -1   \n",
       "1         0/0    5.0  860630400   \n",
       "2         0/0    5.0  883008000   \n",
       "3         0/0    5.0  897696000   \n",
       "4         2/4    5.0  911865600   \n",
       "\n",
       "                                                Text                  Cat1  \\\n",
       "0  The description and photo on this product need...  grocery gourmet food   \n",
       "1  This was a great book!!!! It is well thought t...            toys games   \n",
       "2  I am a first year teacher, teaching 5th grade....            toys games   \n",
       "3  I got the book at my bookfair at school lookin...            toys games   \n",
       "4  Hi! I'm Martine Redman and I created this puzz...            toys games   \n",
       "\n",
       "           Cat2            Cat3  \n",
       "0  meat poultry           jerky  \n",
       "1         games         unknown  \n",
       "2         games         unknown  \n",
       "3         games         unknown  \n",
       "4       puzzles  jigsaw puzzles  "
      ]
     },
     "execution_count": 4,
     "metadata": {},
     "output_type": "execute_result"
    }
   ],
   "source": [
    "data = pd.read_csv(\"data/train_40k.csv\")\n",
    "data_test = pd.read_csv(\"data/val_10k.csv\")\n",
    "\n",
    "df = pd.concat([data, data_test])\n",
    "\n",
    "df.head()"
   ]
  },
  {
   "cell_type": "code",
   "execution_count": 12,
   "metadata": {},
   "outputs": [],
   "source": [
    "X = df[\"Text\"]  # Текст отзывов \n",
    "\n",
    "encoder1 = LabelEncoder()\n",
    "encoder2 = LabelEncoder()\n",
    "encoder3 = LabelEncoder()\n",
    "\n",
    "y_cat1 = df[\"Cat1\"]\n",
    "y_cat2 = df[\"Cat2\"]\n",
    "y_cat3 = df[\"Cat3\"]\n",
    "\n",
    "# Преобразуем категориальные признаки в числовые\n",
    "y_cat1_encode = encoder1.fit_transform(y_cat1)\n",
    "y_cat2_encode = encoder2.fit_transform(y_cat2)\n",
    "y_cat3_encode = encoder3.fit_transform(y_cat3)\n",
    "\n",
    "# Создаем словари для каждого столбца\n",
    "mapping_cat1 = dict(zip(encoder1.transform(encoder1.classes_), encoder1.classes_))\n",
    "mapping_cat2 = dict(zip(encoder2.transform(encoder2.classes_), encoder2.classes_))\n",
    "mapping_cat3 = dict(zip(encoder3.transform(encoder3.classes_), encoder3.classes_))"
   ]
  },
  {
   "cell_type": "code",
   "execution_count": 13,
   "metadata": {},
   "outputs": [],
   "source": [
    "preprocces = pd.DataFrame()\n",
    "preprocces['text'] = X\n",
    "preprocces = prepropcess_data(preprocces)"
   ]
  },
  {
   "cell_type": "code",
   "execution_count": 14,
   "metadata": {},
   "outputs": [
    {
     "data": {
      "text/plain": [
       "0    description photo product need change indicate...\n",
       "1    great book well thought easily imagine event h...\n",
       "2    first year teacher teach grade special reading...\n",
       "3    get book bookfair school look something summer...\n",
       "4    hi martine redman create puzzle briarpatch use...\n",
       "Name: final_text, dtype: object"
      ]
     },
     "execution_count": 14,
     "metadata": {},
     "output_type": "execute_result"
    }
   ],
   "source": [
    "X = preprocces['final_text']\n",
    "X.head()"
   ]
  },
  {
   "cell_type": "code",
   "execution_count": 15,
   "metadata": {},
   "outputs": [],
   "source": [
    "vectorizer = TfidfVectorizer()\n",
    "X_tfidf = vectorizer.fit_transform(X)"
   ]
  },
  {
   "cell_type": "code",
   "execution_count": 39,
   "metadata": {},
   "outputs": [],
   "source": [
    "import pickle\n",
    "with open('tfidf_model.pkl', 'wb') as f:\n",
    "    pickle.dump(vectorizer, f)"
   ]
  },
  {
   "cell_type": "code",
   "execution_count": 16,
   "metadata": {},
   "outputs": [],
   "source": [
    "X_train, X_test, y_cat1_encode_train, y_cat1_encode_test, y_cat2_encode_train, y_cat2_encode_test, y_cat3_encode_train, y_cat3_encode_test = train_test_split(X_tfidf, y_cat1_encode, y_cat2_encode, y_cat3_encode, test_size=0.2, random_state=42)"
   ]
  },
  {
   "cell_type": "code",
   "execution_count": 38,
   "metadata": {},
   "outputs": [
    {
     "name": "stdout",
     "output_type": "stream",
     "text": [
      "        productId                                              Title  \\\n",
      "0      B000E46LYG                Golden Valley Natural Buffalo Jerky   \n",
      "1      B000GRA6N8                                       Westing Game   \n",
      "2      B000GRA6N8                                       Westing Game   \n",
      "3      B000GRA6N8                                       Westing Game   \n",
      "4      B00000DMDQ                  I SPY A is For Jigsaw Puzzle 63pc   \n",
      "...           ...                                                ...   \n",
      "39995  B0006IYND6     Japonesque Silver Lipstick Palette Kit 1 piece   \n",
      "39996  B000A33FZY  Truform 20-30 Below Knee Closed-Toe, Beige, Small   \n",
      "39997  B000I7D2L4          Zadro Z300 Wall Mountable Fog Free Mirror   \n",
      "39998  B000KHKKB2        Opalescent Glitter Lotion - 6.3 oz - Liquid   \n",
      "39999  B000JFC4C8  Pure Purple by Hugo Boss Eau De Parfum Spray 3...   \n",
      "\n",
      "               userId Helpfulness  Score        Time  \\\n",
      "0      A3MQDNGHDJU4MK         0/0    3.0          -1   \n",
      "1             unknown         0/0    5.0   860630400   \n",
      "2             unknown         0/0    5.0   883008000   \n",
      "3             unknown         0/0    5.0   897696000   \n",
      "4             unknown         2/4    5.0   911865600   \n",
      "...               ...         ...    ...         ...   \n",
      "39995  A1WKFQYYRJ95F6         0/0    3.0  1344211200   \n",
      "39996  A1OMZID10X2JY4         0/0    5.0  1344211200   \n",
      "39997  A3I8EYB4CKPQVO         0/0    3.0  1344211200   \n",
      "39998  A3GTQQ5ZFCFBBL         0/0    4.0  1344211200   \n",
      "39999  A3JXBFTAV1EZET         0/0    1.0  1344211200   \n",
      "\n",
      "                                                    Text  \\\n",
      "0      The description and photo on this product need...   \n",
      "1      This was a great book!!!! It is well thought t...   \n",
      "2      I am a first year teacher, teaching 5th grade....   \n",
      "3      I got the book at my bookfair at school lookin...   \n",
      "4      Hi! I'm Martine Redman and I created this puzz...   \n",
      "...                                                  ...   \n",
      "39995  Even when it is very convenient I find it real...   \n",
      "39996  Wore these the next day after eating Chinese t...   \n",
      "39997  this is an OK product. Doesn't really stay \"fo...   \n",
      "39998  This \"Glitter-Up\" body lotion offers tremendou...   \n",
      "39999  I was disappointed with the scent of this frag...   \n",
      "\n",
      "                       Cat1                        Cat2            Cat3  \n",
      "0      grocery gourmet food                meat poultry           jerky  \n",
      "1                toys games                       games         unknown  \n",
      "2                toys games                       games         unknown  \n",
      "3                toys games                       games         unknown  \n",
      "4                toys games                     puzzles  jigsaw puzzles  \n",
      "...                     ...                         ...             ...  \n",
      "39995                beauty                      makeup            lips  \n",
      "39996  health personal care  medical supplies equipment          braces  \n",
      "39997                beauty           tools accessories         mirrors  \n",
      "39998                beauty                   skin care            body  \n",
      "39999                beauty                   fragrance         women s  \n",
      "\n",
      "[40000 rows x 10 columns]\n",
      "{0: 'baby products', 1: 'beauty', 2: 'grocery gourmet food', 3: 'health personal care', 4: 'pet supplies', 5: 'toys games'}\n"
     ]
    }
   ],
   "source": [
    "import pickle\n",
    "with open(\"variables.pickle\", \"wb\") as f:\n",
    "    pickle.dump([data, mapping_cat1, mapping_cat2, mapping_cat3], f)\n",
    "\n",
    "# Загрузка\n",
    "with open(\"variables.pickle\", \"rb\") as f:\n",
    "    loaded_data, loaded_map1, loaded_map2, loaded_map3 = pickle.load(f)\n",
    "\n",
    "print(loaded_data)  # Вывод: [1, 2, 3]\n",
    "print(loaded_map1)  # Вывод: {'a': 1, 'b': 2}"
   ]
  },
  {
   "cell_type": "code",
   "execution_count": 19,
   "metadata": {},
   "outputs": [],
   "source": [
    "from sklearn.metrics.pairwise import cosine_similarity\n",
    "from sklearn.ensemble import RandomForestClassifier\n",
    "from sklearn.ensemble import GradientBoostingClassifier\n",
    "from sklearn.naive_bayes import GaussianNB \n",
    "\n",
    "class HierarchicalClassifier:\n",
    "    def __init__(self):\n",
    "        self.base_classifier_cat1 = LogisticRegression()\n",
    "        self.base_classifier_cat2 = LogisticRegression()\n",
    "        self.base_classifier_cat3 = LogisticRegression()\n",
    "\n",
    "\n",
    "    def fit(self, X_train, y_train_cat1, y_train_cat2, y_train_cat3):\n",
    "        # Обучите базовые классификаторы для каждой категории\n",
    "        print(X_train.shape, y_train_cat1.shape, y_train_cat2.shape, y_train_cat3.shape)\n",
    "        self.clf_cat1 = self.base_classifier_cat1.fit(X_train, y_train_cat1)\n",
    "        print(2)\n",
    "        self.clf_cat2 = self.base_classifier_cat2.fit(X_train, y_train_cat2)\n",
    "        print(3)\n",
    "        self.clf_cat3 = self.base_classifier_cat3.fit(X_train, y_train_cat3)\n",
    "        \n",
    "\n",
    "    def find_closest_category_tfidf(self, predicted_category, possible_categories):\n",
    "        # Создаем объект TF-IDF для векторного представления категорий\n",
    "        tfidf_vectorizer = TfidfVectorizer()\n",
    "        \n",
    "        # Преобразуем категории в векторы TF-IDF\n",
    "        category_vectors = tfidf_vectorizer.fit_transform(possible_categories + [predicted_category])\n",
    "        \n",
    "        # Получаем вектор предсказанной категории\n",
    "        predicted_vector = category_vectors[-1]\n",
    "\n",
    "        # Вычисляем косинусное расстояние между вектором предсказанной категории \n",
    "        # и векторами всех возможных категорий\n",
    "\n",
    "        similarities = cosine_similarity(predicted_vector, category_vectors[:-1])\n",
    "\n",
    "        # Находим индекс категории с максимальным сходством\n",
    "        closest_index = similarities.argmax()\n",
    "\n",
    "        return possible_categories[closest_index]\n",
    "\n",
    "\n",
    "    def predict(self, X_test):\n",
    "        pred_cat1 = []\n",
    "        pred_cat2 = []\n",
    "        pred_cat3 = []\n",
    "\n",
    "        \n",
    "        for i in X_test:\n",
    "            # print()\n",
    "            # CAT 1\n",
    "            # print('='*3 + 'CAT1' + '='*3)\n",
    "            predicted_cat1 = self.clf_cat1.predict(i)[0]\n",
    "            # print(predicted_cat1)\n",
    "            name_cat1 = mapping_cat1[predicted_cat1]\n",
    "            # print(name_cat1)\n",
    "\n",
    "            possible_cat2 = data[data[\"Cat1\"] == name_cat1][\"Cat2\"].unique()\n",
    "            # print(possible_cat2)\n",
    "\n",
    "            # CAT 2\n",
    "            # print('='*3 + 'CAT2' + '='*3)\n",
    "            predicted_cat2 = self.clf_cat2.predict(i)[0]\n",
    "            # print(predicted_cat2)\n",
    "            name_cat2 = mapping_cat2[predicted_cat2]\n",
    "            # print(name_cat2)\n",
    "\n",
    "            if name_cat2 not in possible_cat2 and len(possible_cat2) != 0:\n",
    "                # print('='*4)\n",
    "                # print('level2 -', name_cat1)\n",
    "                # print('before:', name_cat2)\n",
    "                if len(possible_cat2) == 1:\n",
    "                    name_cat2 = possible_cat2[0]\n",
    "                else:\n",
    "                    name_cat2 = self.find_closest_category_tfidf(name_cat2, possible_cat2)\n",
    "                # print('after', name_cat2)\n",
    "\n",
    "                \n",
    "\n",
    "\n",
    "            possible_cat3 = data[data[\"Cat2\"] == name_cat2][\"Cat3\"].unique()\n",
    "            # print(possible_cat3)\n",
    "\n",
    "            # CAT 3\n",
    "            # print('='*3 + 'CAT3' + '='*3)\n",
    "            predicted_cat3 = self.clf_cat3.predict(i)[0]\n",
    "            # print(predicted_cat3)\n",
    "            name_cat3 = mapping_cat3[predicted_cat3]\n",
    "            # print(name_cat3)\n",
    "\n",
    "            if name_cat3 not in possible_cat3 and len(possible_cat3) != 0:\n",
    "                # print('='*4)\n",
    "                # print('level3 -', name_cat2)\n",
    "                # print('before:', name_cat3)\n",
    "                if len(possible_cat3) == 1:\n",
    "                    name_cat3 = possible_cat3[0]\n",
    "                else:\n",
    "                    name_cat3 = self.find_closest_category_tfidf(name_cat3, possible_cat3)\n",
    "                # print('after', name_cat3)\n",
    "\n",
    "            pred_cat1.append(name_cat1)\n",
    "            pred_cat2.append(name_cat2)\n",
    "            pred_cat3.append(name_cat3)\n",
    "\n",
    "        return pred_cat1, pred_cat2, pred_cat3\n",
    "        "
   ]
  },
  {
   "cell_type": "code",
   "execution_count": 20,
   "metadata": {},
   "outputs": [
    {
     "name": "stdout",
     "output_type": "stream",
     "text": [
      "(40000, 39327) (40000,) (40000,) (40000,)\n"
     ]
    },
    {
     "name": "stderr",
     "output_type": "stream",
     "text": [
      "c:\\Users\\ataka\\anaconda3\\Lib\\site-packages\\sklearn\\linear_model\\_logistic.py:460: ConvergenceWarning: lbfgs failed to converge (status=1):\n",
      "STOP: TOTAL NO. of ITERATIONS REACHED LIMIT.\n",
      "\n",
      "Increase the number of iterations (max_iter) or scale the data as shown in:\n",
      "    https://scikit-learn.org/stable/modules/preprocessing.html\n",
      "Please also refer to the documentation for alternative solver options:\n",
      "    https://scikit-learn.org/stable/modules/linear_model.html#logistic-regression\n",
      "  n_iter_i = _check_optimize_result(\n"
     ]
    },
    {
     "name": "stdout",
     "output_type": "stream",
     "text": [
      "2\n"
     ]
    },
    {
     "name": "stderr",
     "output_type": "stream",
     "text": [
      "c:\\Users\\ataka\\anaconda3\\Lib\\site-packages\\sklearn\\linear_model\\_logistic.py:460: ConvergenceWarning: lbfgs failed to converge (status=1):\n",
      "STOP: TOTAL NO. of ITERATIONS REACHED LIMIT.\n",
      "\n",
      "Increase the number of iterations (max_iter) or scale the data as shown in:\n",
      "    https://scikit-learn.org/stable/modules/preprocessing.html\n",
      "Please also refer to the documentation for alternative solver options:\n",
      "    https://scikit-learn.org/stable/modules/linear_model.html#logistic-regression\n",
      "  n_iter_i = _check_optimize_result(\n"
     ]
    },
    {
     "name": "stdout",
     "output_type": "stream",
     "text": [
      "3\n"
     ]
    },
    {
     "name": "stderr",
     "output_type": "stream",
     "text": [
      "c:\\Users\\ataka\\anaconda3\\Lib\\site-packages\\sklearn\\linear_model\\_logistic.py:460: ConvergenceWarning: lbfgs failed to converge (status=1):\n",
      "STOP: TOTAL NO. of ITERATIONS REACHED LIMIT.\n",
      "\n",
      "Increase the number of iterations (max_iter) or scale the data as shown in:\n",
      "    https://scikit-learn.org/stable/modules/preprocessing.html\n",
      "Please also refer to the documentation for alternative solver options:\n",
      "    https://scikit-learn.org/stable/modules/linear_model.html#logistic-regression\n",
      "  n_iter_i = _check_optimize_result(\n"
     ]
    }
   ],
   "source": [
    "hierarchical_clf = HierarchicalClassifier()\n",
    "hierarchical_clf.fit(X_train, y_cat1_encode_train, y_cat2_encode_train, y_cat3_encode_train)"
   ]
  },
  {
   "cell_type": "code",
   "execution_count": 37,
   "metadata": {},
   "outputs": [],
   "source": [
    "import pickle\n",
    "\n",
    "# Save the model\n",
    "with open('hierarchical_clf.pkl', 'wb') as f:\n",
    "    pickle.dump(hierarchical_clf, f)\n",
    "\n",
    "# Load the model\n",
    "with open('hierarchical_clf.pkl', 'rb') as f:\n",
    "    loaded_clf = pickle.load(f)"
   ]
  },
  {
   "cell_type": "code",
   "execution_count": 21,
   "metadata": {},
   "outputs": [
    {
     "data": {
      "text/plain": [
       "['hierarchical_clf.joblib']"
      ]
     },
     "execution_count": 21,
     "metadata": {},
     "output_type": "execute_result"
    }
   ],
   "source": [
    "import joblib\n",
    "\n",
    "joblib.dump(hierarchical_clf, 'hierarchical_clf.joblib')"
   ]
  },
  {
   "cell_type": "code",
   "execution_count": 22,
   "metadata": {},
   "outputs": [],
   "source": [
    "loaded_clf = joblib.load('hierarchical_clf.joblib')"
   ]
  },
  {
   "cell_type": "code",
   "execution_count": 23,
   "metadata": {},
   "outputs": [],
   "source": [
    "y_pred_cat1, y_pred_cat2, y_pred_cat3  = hierarchical_clf.predict(X_test)\n"
   ]
  },
  {
   "cell_type": "code",
   "execution_count": 35,
   "metadata": {},
   "outputs": [],
   "source": [
    "y_pred_cat1_load, y_pred_cat2_load, y_pred_cat3_load  = loaded_clf.predict(X_test)\n"
   ]
  },
  {
   "cell_type": "code",
   "execution_count": 31,
   "metadata": {},
   "outputs": [],
   "source": [
    "y_cat1_test = pd.Series(y_cat1_encode_test).map(mapping_cat1)\n",
    "y_cat2_test = pd.Series(y_cat2_encode_test).map(mapping_cat2)\n",
    "y_cat3_test = pd.Series(y_cat3_encode_test).map(mapping_cat3)\n",
    "\n"
   ]
  },
  {
   "cell_type": "code",
   "execution_count": 36,
   "metadata": {},
   "outputs": [
    {
     "name": "stdout",
     "output_type": "stream",
     "text": [
      "Accuracy: 0.8329\n",
      "Precision: 0.8511713719019832\n",
      "Recall: 0.8170608739401382\n",
      "F1-score: 0.8318092521531399\n"
     ]
    }
   ],
   "source": [
    "accuracy = accuracy_score(y_cat1_test, y_pred_cat1_load)\n",
    "precision = precision_score(y_cat1_test, y_pred_cat1_load, average=\"macro\")\n",
    "recall = recall_score(y_cat1_test, y_pred_cat1_load, average=\"macro\")\n",
    "f1 = f1_score(y_cat1_test, y_pred_cat1_load, average=\"macro\")\n",
    "\n",
    "print(f\"Accuracy: {accuracy}\")\n",
    "print(f\"Precision: {precision}\")\n",
    "print(f\"Recall: {recall}\")\n",
    "print(f\"F1-score: {f1}\")"
   ]
  },
  {
   "cell_type": "code",
   "execution_count": 30,
   "metadata": {},
   "outputs": [
    {
     "name": "stdout",
     "output_type": "stream",
     "text": [
      "Accuracy: 0.8329\n",
      "Precision: 0.8511713719019832\n",
      "Recall: 0.8170608739401382\n",
      "F1-score: 0.8318092521531399\n"
     ]
    }
   ],
   "source": [
    "accuracy = accuracy_score(y_cat1_test, y_pred_cat1)\n",
    "precision = precision_score(y_cat1_test, y_pred_cat1, average=\"macro\")\n",
    "recall = recall_score(y_cat1_test, y_pred_cat1, average=\"macro\")\n",
    "f1 = f1_score(y_cat1_test, y_pred_cat1, average=\"macro\")\n",
    "\n",
    "print(f\"Accuracy: {accuracy}\")\n",
    "print(f\"Precision: {precision}\")\n",
    "print(f\"Recall: {recall}\")\n",
    "print(f\"F1-score: {f1}\")"
   ]
  },
  {
   "cell_type": "code",
   "execution_count": 32,
   "metadata": {},
   "outputs": [
    {
     "name": "stdout",
     "output_type": "stream",
     "text": [
      "Accuracy: 0.6167\n",
      "Precision: 0.6077771157495653\n",
      "Recall: 0.42596662861272305\n",
      "F1-score: 0.4579642828397469\n"
     ]
    },
    {
     "name": "stderr",
     "output_type": "stream",
     "text": [
      "c:\\Users\\ataka\\anaconda3\\Lib\\site-packages\\sklearn\\metrics\\_classification.py:1469: UndefinedMetricWarning: Precision is ill-defined and being set to 0.0 in labels with no predicted samples. Use `zero_division` parameter to control this behavior.\n",
      "  _warn_prf(average, modifier, msg_start, len(result))\n"
     ]
    }
   ],
   "source": [
    "accuracy = accuracy_score(y_cat2_test, y_pred_cat2)\n",
    "precision = precision_score(y_cat2_test, y_pred_cat2, average=\"macro\")\n",
    "recall = recall_score(y_cat2_test, y_pred_cat2, average=\"macro\")\n",
    "f1 = f1_score(y_cat2_test, y_pred_cat2, average=\"macro\")\n",
    "\n",
    "print(f\"Accuracy: {accuracy}\")\n",
    "print(f\"Precision: {precision}\")\n",
    "print(f\"Recall: {recall}\")\n",
    "print(f\"F1-score: {f1}\")"
   ]
  },
  {
   "cell_type": "code",
   "execution_count": 33,
   "metadata": {},
   "outputs": [
    {
     "name": "stdout",
     "output_type": "stream",
     "text": [
      "Accuracy: 0.4522\n",
      "Precision: 0.2770147552067582\n",
      "Recall: 0.15886742758372305\n",
      "F1-score: 0.17970972324487536\n"
     ]
    },
    {
     "name": "stderr",
     "output_type": "stream",
     "text": [
      "c:\\Users\\ataka\\anaconda3\\Lib\\site-packages\\sklearn\\metrics\\_classification.py:1469: UndefinedMetricWarning: Precision is ill-defined and being set to 0.0 in labels with no predicted samples. Use `zero_division` parameter to control this behavior.\n",
      "  _warn_prf(average, modifier, msg_start, len(result))\n",
      "c:\\Users\\ataka\\anaconda3\\Lib\\site-packages\\sklearn\\metrics\\_classification.py:1469: UndefinedMetricWarning: Recall is ill-defined and being set to 0.0 in labels with no true samples. Use `zero_division` parameter to control this behavior.\n",
      "  _warn_prf(average, modifier, msg_start, len(result))\n"
     ]
    }
   ],
   "source": [
    "accuracy = accuracy_score(y_cat3_test, y_pred_cat3)\n",
    "precision = precision_score(y_cat3_test, y_pred_cat3, average=\"macro\")\n",
    "recall = recall_score(y_cat3_test, y_pred_cat3, average=\"macro\")\n",
    "f1 = f1_score(y_cat3_test, y_pred_cat3, average=\"macro\")\n",
    "\n",
    "print(f\"Accuracy: {accuracy}\")\n",
    "print(f\"Precision: {precision}\")\n",
    "print(f\"Recall: {recall}\")\n",
    "print(f\"F1-score: {f1}\")"
   ]
  },
  {
   "cell_type": "code",
   "execution_count": 42,
   "metadata": {},
   "outputs": [
    {
     "data": {
      "text/plain": [
       "(['toys games'], ['games'], ['board games'])"
      ]
     },
     "execution_count": 42,
     "metadata": {},
     "output_type": "execute_result"
    }
   ],
   "source": [
    "with open('app/tfidf_model.pkl', 'rb') as f:\n",
    "    loaded_vectorizer = pickle.load(f)\n",
    "\n",
    "text='very good game for child'\n",
    "\n",
    "text_tfidf = loaded_vectorizer.transform([text])\n",
    "\n",
    "loaded_clf.predict([text_tfidf])"
   ]
  },
  {
   "cell_type": "code",
   "execution_count": null,
   "metadata": {},
   "outputs": [],
   "source": []
  }
 ],
 "metadata": {
  "kernelspec": {
   "display_name": "base",
   "language": "python",
   "name": "python3"
  },
  "language_info": {
   "codemirror_mode": {
    "name": "ipython",
    "version": 3
   },
   "file_extension": ".py",
   "mimetype": "text/x-python",
   "name": "python",
   "nbconvert_exporter": "python",
   "pygments_lexer": "ipython3",
   "version": "3.11.5"
  }
 },
 "nbformat": 4,
 "nbformat_minor": 2
}
